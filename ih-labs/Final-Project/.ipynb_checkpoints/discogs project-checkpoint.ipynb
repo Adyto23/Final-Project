{
 "cells": [
  {
   "cell_type": "code",
   "execution_count": 3,
   "id": "cb3d4747",
   "metadata": {},
   "outputs": [
    {
     "name": "stdout",
     "output_type": "stream",
     "text": [
      "Collecting git+https://github.com/grigorjevas/Discogs-marketplace-scraper\n",
      "  Cloning https://github.com/grigorjevas/Discogs-marketplace-scraper to c:\\users\\adyto\\appdata\\local\\temp\\pip-req-build-1kg0y1tm\n",
      "  Resolved https://github.com/grigorjevas/Discogs-marketplace-scraper to commit f50632fd95c6f3efe9ab87f1f904555115f3f518\n",
      "  Preparing metadata (setup.py): started\n",
      "  Preparing metadata (setup.py): finished with status 'done'\n",
      "Requirement already satisfied: asttokens==2.0.4 in c:\\users\\adyto\\anaconda3\\lib\\site-packages (from discogs-marketplace-scraper==0.0.1) (2.0.4)\n",
      "Requirement already satisfied: attrs==20.3.0 in c:\\users\\adyto\\anaconda3\\lib\\site-packages (from discogs-marketplace-scraper==0.0.1) (20.3.0)\n",
      "Requirement already satisfied: beautifulsoup4==4.9.3 in c:\\users\\adyto\\anaconda3\\lib\\site-packages (from discogs-marketplace-scraper==0.0.1) (4.9.3)\n",
      "Requirement already satisfied: certifi==2020.12.5 in c:\\users\\adyto\\anaconda3\\lib\\site-packages (from discogs-marketplace-scraper==0.0.1) (2020.12.5)\n",
      "Requirement already satisfied: chardet==4.0.0 in c:\\users\\adyto\\anaconda3\\lib\\site-packages (from discogs-marketplace-scraper==0.0.1) (4.0.0)\n",
      "Requirement already satisfied: colorama==0.4.4 in c:\\users\\adyto\\anaconda3\\lib\\site-packages (from discogs-marketplace-scraper==0.0.1) (0.4.4)\n",
      "Requirement already satisfied: executing==0.5.4 in c:\\users\\adyto\\anaconda3\\lib\\site-packages (from discogs-marketplace-scraper==0.0.1) (0.5.4)\n",
      "Requirement already satisfied: icecream==2.1.0 in c:\\users\\adyto\\anaconda3\\lib\\site-packages (from discogs-marketplace-scraper==0.0.1) (2.1.0)\n",
      "Requirement already satisfied: idna==2.10 in c:\\users\\adyto\\anaconda3\\lib\\site-packages (from discogs-marketplace-scraper==0.0.1) (2.10)\n",
      "Requirement already satisfied: iniconfig==1.1.1 in c:\\users\\adyto\\anaconda3\\lib\\site-packages (from discogs-marketplace-scraper==0.0.1) (1.1.1)\n",
      "Requirement already satisfied: numpy==1.20.1 in c:\\users\\adyto\\anaconda3\\lib\\site-packages (from discogs-marketplace-scraper==0.0.1) (1.20.1)\n",
      "Requirement already satisfied: packaging==20.9 in c:\\users\\adyto\\anaconda3\\lib\\site-packages (from discogs-marketplace-scraper==0.0.1) (20.9)\n",
      "Requirement already satisfied: pandas==1.2.3 in c:\\users\\adyto\\anaconda3\\lib\\site-packages (from discogs-marketplace-scraper==0.0.1) (1.2.3)\n",
      "Requirement already satisfied: pluggy==0.13.1 in c:\\users\\adyto\\anaconda3\\lib\\site-packages (from discogs-marketplace-scraper==0.0.1) (0.13.1)\n",
      "Requirement already satisfied: py==1.10.0 in c:\\users\\adyto\\anaconda3\\lib\\site-packages (from discogs-marketplace-scraper==0.0.1) (1.10.0)\n",
      "Requirement already satisfied: Pygments==2.8.1 in c:\\users\\adyto\\anaconda3\\lib\\site-packages (from discogs-marketplace-scraper==0.0.1) (2.8.1)\n",
      "Requirement already satisfied: pyparsing==2.4.7 in c:\\users\\adyto\\anaconda3\\lib\\site-packages (from discogs-marketplace-scraper==0.0.1) (2.4.7)\n",
      "Requirement already satisfied: pytest==6.2.2 in c:\\users\\adyto\\anaconda3\\lib\\site-packages (from discogs-marketplace-scraper==0.0.1) (6.2.2)\n",
      "Requirement already satisfied: python-dateutil==2.8.1 in c:\\users\\adyto\\anaconda3\\lib\\site-packages (from discogs-marketplace-scraper==0.0.1) (2.8.1)\n",
      "Requirement already satisfied: pytz==2021.1 in c:\\users\\adyto\\anaconda3\\lib\\site-packages (from discogs-marketplace-scraper==0.0.1) (2021.1)\n",
      "Requirement already satisfied: requests==2.25.1 in c:\\users\\adyto\\anaconda3\\lib\\site-packages (from discogs-marketplace-scraper==0.0.1) (2.25.1)\n",
      "Requirement already satisfied: six==1.15.0 in c:\\users\\adyto\\anaconda3\\lib\\site-packages (from discogs-marketplace-scraper==0.0.1) (1.15.0)\n",
      "Requirement already satisfied: soupsieve==2.2 in c:\\users\\adyto\\anaconda3\\lib\\site-packages (from discogs-marketplace-scraper==0.0.1) (2.2)\n",
      "Requirement already satisfied: toml==0.10.2 in c:\\users\\adyto\\anaconda3\\lib\\site-packages (from discogs-marketplace-scraper==0.0.1) (0.10.2)\n",
      "Requirement already satisfied: urllib3==1.26.3 in c:\\users\\adyto\\anaconda3\\lib\\site-packages (from discogs-marketplace-scraper==0.0.1) (1.26.3)\n",
      "Requirement already satisfied: atomicwrites>=1.0 in c:\\users\\adyto\\anaconda3\\lib\\site-packages (from pytest==6.2.2->discogs-marketplace-scraper==0.0.1) (1.4.0)\n"
     ]
    },
    {
     "name": "stderr",
     "output_type": "stream",
     "text": [
      "  Running command git clone --filter=blob:none --quiet https://github.com/grigorjevas/Discogs-marketplace-scraper 'C:\\Users\\adyto\\AppData\\Local\\Temp\\pip-req-build-1kg0y1tm'\n"
     ]
    }
   ],
   "source": [
    "import pandas as pd\n",
    "import requests\n",
    "!pip install git+https://github.com/grigorjevas/Discogs-marketplace-scraper\n",
    "\n",
    "\n",
    "\n"
   ]
  },
  {
   "cell_type": "code",
   "execution_count": 7,
   "id": "ed81f337",
   "metadata": {},
   "outputs": [
    {
     "name": "stdout",
     "output_type": "stream",
     "text": [
      "Processing item 1/5: https://www.discogs.com/sell/item/2475252824\n",
      "Processing item 2/5: https://www.discogs.com/sell/item/2475252758\n",
      "Processing item 3/5: https://www.discogs.com/sell/item/2475252476\n",
      "Processing item 4/5: https://www.discogs.com/sell/item/2475251555\n",
      "Processing item 5/5: https://www.discogs.com/sell/item/2475251474\n"
     ]
    }
   ],
   "source": [
    "from discogs import scraper\n",
    "scraper = scraper.DiscogsMarketplaceScraper(\"techno\", 5)\n",
    "df = scraper.fetch_items"
   ]
  },
  {
   "cell_type": "code",
   "execution_count": 8,
   "id": "53961b66",
   "metadata": {},
   "outputs": [
    {
     "data": {
      "text/html": [
       "<div>\n",
       "<style scoped>\n",
       "    .dataframe tbody tr th:only-of-type {\n",
       "        vertical-align: middle;\n",
       "    }\n",
       "\n",
       "    .dataframe tbody tr th {\n",
       "        vertical-align: top;\n",
       "    }\n",
       "\n",
       "    .dataframe thead th {\n",
       "        text-align: right;\n",
       "    }\n",
       "</style>\n",
       "<table border=\"1\" class=\"dataframe\">\n",
       "  <thead>\n",
       "    <tr style=\"text-align: right;\">\n",
       "      <th></th>\n",
       "      <th>artist</th>\n",
       "      <th>title</th>\n",
       "      <th>label</th>\n",
       "      <th>release_format</th>\n",
       "      <th>number_of_tracks</th>\n",
       "      <th>release_date</th>\n",
       "      <th>price</th>\n",
       "      <th>rating</th>\n",
       "      <th>votes</th>\n",
       "      <th>have</th>\n",
       "      <th>want</th>\n",
       "      <th>limited_edition</th>\n",
       "      <th>media_condition</th>\n",
       "      <th>sleeve_condition</th>\n",
       "      <th>release_page</th>\n",
       "    </tr>\n",
       "  </thead>\n",
       "  <tbody>\n",
       "    <tr>\n",
       "      <th>0</th>\n",
       "      <td>Hutton Drive</td>\n",
       "      <td>O.S.B.</td>\n",
       "      <td>Seventh Sign Recordings ‎– 7SR001</td>\n",
       "      <td>12\"</td>\n",
       "      <td>3</td>\n",
       "      <td>2002</td>\n",
       "      <td>14.00</td>\n",
       "      <td>4.55</td>\n",
       "      <td>38</td>\n",
       "      <td>210</td>\n",
       "      <td>351</td>\n",
       "      <td>0</td>\n",
       "      <td>Near Mint (NM or M-) A nearly perfect record. ...</td>\n",
       "      <td>Near Mint (NM or M-)</td>\n",
       "      <td>https://discogs.com/release/32838-Hutton-Drive...</td>\n",
       "    </tr>\n",
       "    <tr>\n",
       "      <th>1</th>\n",
       "      <td>Modern Heads</td>\n",
       "      <td>Chapter II</td>\n",
       "      <td>Outis Music ‎– Outis 006</td>\n",
       "      <td>12\"</td>\n",
       "      <td>2</td>\n",
       "      <td>01 Dec 2014</td>\n",
       "      <td>8.95</td>\n",
       "      <td>4.47</td>\n",
       "      <td>17</td>\n",
       "      <td>108</td>\n",
       "      <td>66</td>\n",
       "      <td>0</td>\n",
       "      <td>Very Good Plus (VG+) Will show some signs that...</td>\n",
       "      <td>Generic</td>\n",
       "      <td>https://discogs.com/release/6392489-Modern-Hea...</td>\n",
       "    </tr>\n",
       "    <tr>\n",
       "      <th>2</th>\n",
       "      <td>Divider (2)</td>\n",
       "      <td>Lazerboy</td>\n",
       "      <td>Müller Records ‎– MUELLER2048</td>\n",
       "      <td>12\"</td>\n",
       "      <td>3</td>\n",
       "      <td>2003</td>\n",
       "      <td>3.50</td>\n",
       "      <td>4.04</td>\n",
       "      <td>25</td>\n",
       "      <td>110</td>\n",
       "      <td>42</td>\n",
       "      <td>0</td>\n",
       "      <td>Very Good Plus (VG+) Will show some signs that...</td>\n",
       "      <td>Generic</td>\n",
       "      <td>https://discogs.com/release/222738-Divider-Laz...</td>\n",
       "    </tr>\n",
       "    <tr>\n",
       "      <th>3</th>\n",
       "      <td>John Digweed</td>\n",
       "      <td>Bedrock XX</td>\n",
       "      <td>Bedrock Records ‎– BED20CDVIN</td>\n",
       "      <td>12\"</td>\n",
       "      <td>65</td>\n",
       "      <td>22 Jun 2018</td>\n",
       "      <td>80.00</td>\n",
       "      <td>4.78</td>\n",
       "      <td>41</td>\n",
       "      <td>239</td>\n",
       "      <td>116</td>\n",
       "      <td>1</td>\n",
       "      <td>Near Mint (NM or M-) A nearly perfect record. ...</td>\n",
       "      <td>Very Good Plus (VG+)</td>\n",
       "      <td>https://discogs.com/release/12252841-John-Digw...</td>\n",
       "    </tr>\n",
       "    <tr>\n",
       "      <th>4</th>\n",
       "      <td>Aideam</td>\n",
       "      <td>Ng-Produkt 01</td>\n",
       "      <td>Ng-Productions ‎– none</td>\n",
       "      <td>12\"</td>\n",
       "      <td>3</td>\n",
       "      <td>1994</td>\n",
       "      <td>25.00</td>\n",
       "      <td>4.31</td>\n",
       "      <td>13</td>\n",
       "      <td>45</td>\n",
       "      <td>200</td>\n",
       "      <td>0</td>\n",
       "      <td>Near Mint (NM or M-) A nearly perfect record. ...</td>\n",
       "      <td>Not Graded</td>\n",
       "      <td>https://discogs.com/release/780001-Aideam-Ng-P...</td>\n",
       "    </tr>\n",
       "  </tbody>\n",
       "</table>\n",
       "</div>"
      ],
      "text/plain": [
       "         artist          title                              label  \\\n",
       "0  Hutton Drive         O.S.B.  Seventh Sign Recordings ‎– 7SR001   \n",
       "1  Modern Heads     Chapter II           Outis Music ‎– Outis 006   \n",
       "2   Divider (2)       Lazerboy      Müller Records ‎– MUELLER2048   \n",
       "3  John Digweed     Bedrock XX      Bedrock Records ‎– BED20CDVIN   \n",
       "4        Aideam  Ng-Produkt 01             Ng-Productions ‎– none   \n",
       "\n",
       "  release_format  number_of_tracks release_date  price rating votes have want  \\\n",
       "0            12\"                 3         2002  14.00   4.55    38  210  351   \n",
       "1            12\"                 2  01 Dec 2014   8.95   4.47    17  108   66   \n",
       "2            12\"                 3         2003   3.50   4.04    25  110   42   \n",
       "3            12\"                65  22 Jun 2018  80.00   4.78    41  239  116   \n",
       "4            12\"                 3         1994  25.00   4.31    13   45  200   \n",
       "\n",
       "   limited_edition                                    media_condition  \\\n",
       "0                0  Near Mint (NM or M-) A nearly perfect record. ...   \n",
       "1                0  Very Good Plus (VG+) Will show some signs that...   \n",
       "2                0  Very Good Plus (VG+) Will show some signs that...   \n",
       "3                1  Near Mint (NM or M-) A nearly perfect record. ...   \n",
       "4                0  Near Mint (NM or M-) A nearly perfect record. ...   \n",
       "\n",
       "       sleeve_condition                                       release_page  \n",
       "0  Near Mint (NM or M-)  https://discogs.com/release/32838-Hutton-Drive...  \n",
       "1               Generic  https://discogs.com/release/6392489-Modern-Hea...  \n",
       "2               Generic  https://discogs.com/release/222738-Divider-Laz...  \n",
       "3  Very Good Plus (VG+)  https://discogs.com/release/12252841-John-Digw...  \n",
       "4            Not Graded  https://discogs.com/release/780001-Aideam-Ng-P...  "
      ]
     },
     "execution_count": 8,
     "metadata": {},
     "output_type": "execute_result"
    }
   ],
   "source": [
    "df\n",
    "##checking type "
   ]
  },
  {
   "cell_type": "code",
   "execution_count": 9,
   "id": "637d6f1c",
   "metadata": {},
   "outputs": [
    {
     "data": {
      "text/plain": [
       "0    Near Mint (NM or M-) A nearly perfect record. ...\n",
       "1    Very Good Plus (VG+) Will show some signs that...\n",
       "2    Very Good Plus (VG+) Will show some signs that...\n",
       "3    Near Mint (NM or M-) A nearly perfect record. ...\n",
       "4    Near Mint (NM or M-) A nearly perfect record. ...\n",
       "Name: media_condition, dtype: object"
      ]
     },
     "execution_count": 9,
     "metadata": {},
     "output_type": "execute_result"
    }
   ],
   "source": [
    "df[\"media_condition\"]"
   ]
  },
  {
   "cell_type": "code",
   "execution_count": null,
   "id": "4eeaaeaa",
   "metadata": {},
   "outputs": [],
   "source": []
  }
 ],
 "metadata": {
  "kernelspec": {
   "display_name": "Python 3 (ipykernel)",
   "language": "python",
   "name": "python3"
  },
  "language_info": {
   "codemirror_mode": {
    "name": "ipython",
    "version": 3
   },
   "file_extension": ".py",
   "mimetype": "text/x-python",
   "name": "python",
   "nbconvert_exporter": "python",
   "pygments_lexer": "ipython3",
   "version": "3.9.13"
  }
 },
 "nbformat": 4,
 "nbformat_minor": 5
}
